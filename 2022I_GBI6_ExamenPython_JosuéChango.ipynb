{
 "cells": [
  {
   "cell_type": "markdown",
   "metadata": {},
   "source": [
    "<img src=\"https://ecogenomics.github.io/CheckM/img/checkm.png\" width=300 height=240 />\n",
    "\n",
    "# EXAMEN PARCIAL PYTHON\n",
    "    \n",
    "\n",
    "## GBI6-2021II: BIOINFORMÁTICA\n",
    "\n",
    "**Apellidos, Nombres** <--- Chango Gómez Josué Leonardo\n",
    "\n",
    "**03-08-2022**"
   ]
  },
  {
   "cell_type": "markdown",
   "metadata": {},
   "source": [
    "<font color='red'>Color de texto</font>\n"
   ]
  },
  {
   "cell_type": "markdown",
   "metadata": {},
   "source": [
    "### REQUERIMIENTOS PARA EL EXAMEN\n",
    "\n",
    "Utilice de preferencia ```Jupyter``` de Anaconda, dado que tienen que hacer un control de cambios en cada pregunta. \n",
    "\n",
    "Para este examen se requiere dos documentos: \n",
    "\n",
    "1. Archivo ```miningscience.py``` donde tendrá dos funciones:\n",
    "\n",
    "2. Archivo ```2022I_GBI6_ExamenPython``` donde se llamará las funciones y se obtendrá resultados."
   ]
  },
  {
   "cell_type": "markdown",
   "metadata": {},
   "source": [
    "## Ejercicio 0 [0.5 puntos]\n",
    "Realice cambios al cuaderno de jupyter: \n",
    "- Agregue el logo de la Universidad\n",
    "- Coloque sus datos personales \n",
    "- Escriba una **tabla** con las características de su computador \n"
   ]
  },
  {
   "cell_type": "markdown",
   "metadata": {},
   "source": [
    "## Ejercicio 1 [2 puntos]\n",
    "Cree el archivo ```miningscience.py``` con las siguientes dos funciones:\n",
    "    \n",
    "i. ```download_pubmed```: para descargar la data de PubMed utilizando el **ENTREZ** de Biopython. El parámetro de entrada para la función es el ```keyword```. \n",
    "    \n",
    "ii. ```map_science```: para su data replique el ejemplo de [MapOfScience](https://github.com/CSB-book/CSB/blob/master/regex/solutions/MapOfScience_solution.ipynb), donde los puntos resaltados son al menos 5 países\n",
    "\n",
    "iii *Cree un docstring para cada función.* \n",
    "\n",
    "Luego de crear las funciones, cargue el módulo ```miningscience``` como ```msc``` e **imprima docstring de cada función**.\n"
   ]
  },
  {
   "cell_type": "code",
   "execution_count": 44,
   "metadata": {},
   "outputs": [
    {
     "name": "stdout",
     "output_type": "stream",
     "text": [
      "Collecting biopython\n",
      "  Downloading biopython-1.79-cp39-cp39-win_amd64.whl (2.3 MB)\n",
      "Requirement already satisfied: numpy in c:\\users\\toshiba\\anaconda3\\lib\\site-packages (from biopython) (1.21.5)\n",
      "Installing collected packages: biopython\n",
      "Successfully installed biopython-1.79\n",
      "Collecting reportlab\n",
      "  Downloading reportlab-3.6.11-cp39-cp39-win_amd64.whl (2.3 MB)\n",
      "Requirement already satisfied: pillow>=9.0.0 in c:\\users\\toshiba\\anaconda3\\lib\\site-packages (from reportlab) (9.0.1)\n",
      "Installing collected packages: reportlab\n",
      "Successfully installed reportlab-3.6.11\n",
      "Collecting nglview\n",
      "  Downloading nglview-3.0.3.tar.gz (5.7 MB)\n",
      "  Installing build dependencies: started\n",
      "  Installing build dependencies: finished with status 'done'\n",
      "  Getting requirements to build wheel: started\n",
      "  Getting requirements to build wheel: finished with status 'done'\n",
      "    Preparing wheel metadata: started\n",
      "    Preparing wheel metadata: finished with status 'done'\n",
      "Requirement already satisfied: jupyterlab-widgets in c:\\users\\toshiba\\anaconda3\\lib\\site-packages (from nglview) (1.0.0)\n",
      "Requirement already satisfied: numpy in c:\\users\\toshiba\\anaconda3\\lib\\site-packages (from nglview) (1.21.5)\n",
      "Requirement already satisfied: ipywidgets>=7 in c:\\users\\toshiba\\anaconda3\\lib\\site-packages (from nglview) (7.6.5)\n",
      "Requirement already satisfied: ipython>=4.0.0 in c:\\users\\toshiba\\anaconda3\\lib\\site-packages (from ipywidgets>=7->nglview) (8.2.0)\n",
      "Requirement already satisfied: traitlets>=4.3.1 in c:\\users\\toshiba\\anaconda3\\lib\\site-packages (from ipywidgets>=7->nglview) (5.1.1)\n",
      "Requirement already satisfied: nbformat>=4.2.0 in c:\\users\\toshiba\\anaconda3\\lib\\site-packages (from ipywidgets>=7->nglview) (5.3.0)\n",
      "Requirement already satisfied: widgetsnbextension~=3.5.0 in c:\\users\\toshiba\\anaconda3\\lib\\site-packages (from ipywidgets>=7->nglview) (3.5.2)\n",
      "Requirement already satisfied: ipython-genutils~=0.2.0 in c:\\users\\toshiba\\anaconda3\\lib\\site-packages (from ipywidgets>=7->nglview) (0.2.0)\n",
      "Requirement already satisfied: ipykernel>=4.5.1 in c:\\users\\toshiba\\anaconda3\\lib\\site-packages (from ipywidgets>=7->nglview) (6.9.1)\n",
      "Requirement already satisfied: tornado<7.0,>=4.2 in c:\\users\\toshiba\\anaconda3\\lib\\site-packages (from ipykernel>=4.5.1->ipywidgets>=7->nglview) (6.1)\n",
      "Requirement already satisfied: nest-asyncio in c:\\users\\toshiba\\anaconda3\\lib\\site-packages (from ipykernel>=4.5.1->ipywidgets>=7->nglview) (1.5.5)\n",
      "Requirement already satisfied: jupyter-client<8.0 in c:\\users\\toshiba\\anaconda3\\lib\\site-packages (from ipykernel>=4.5.1->ipywidgets>=7->nglview) (6.1.12)\n",
      "Requirement already satisfied: debugpy<2.0,>=1.0.0 in c:\\users\\toshiba\\anaconda3\\lib\\site-packages (from ipykernel>=4.5.1->ipywidgets>=7->nglview) (1.5.1)\n",
      "Requirement already satisfied: matplotlib-inline<0.2.0,>=0.1.0 in c:\\users\\toshiba\\anaconda3\\lib\\site-packages (from ipykernel>=4.5.1->ipywidgets>=7->nglview) (0.1.2)\n",
      "Requirement already satisfied: jedi>=0.16 in c:\\users\\toshiba\\anaconda3\\lib\\site-packages (from ipython>=4.0.0->ipywidgets>=7->nglview) (0.18.1)\n",
      "Requirement already satisfied: colorama in c:\\users\\toshiba\\anaconda3\\lib\\site-packages (from ipython>=4.0.0->ipywidgets>=7->nglview) (0.4.4)\n",
      "Requirement already satisfied: backcall in c:\\users\\toshiba\\anaconda3\\lib\\site-packages (from ipython>=4.0.0->ipywidgets>=7->nglview) (0.2.0)\n",
      "Requirement already satisfied: decorator in c:\\users\\toshiba\\anaconda3\\lib\\site-packages (from ipython>=4.0.0->ipywidgets>=7->nglview) (5.1.1)\n",
      "Requirement already satisfied: pickleshare in c:\\users\\toshiba\\anaconda3\\lib\\site-packages (from ipython>=4.0.0->ipywidgets>=7->nglview) (0.7.5)\n",
      "Requirement already satisfied: setuptools>=18.5 in c:\\users\\toshiba\\anaconda3\\lib\\site-packages (from ipython>=4.0.0->ipywidgets>=7->nglview) (61.2.0)\n",
      "Requirement already satisfied: pygments>=2.4.0 in c:\\users\\toshiba\\anaconda3\\lib\\site-packages (from ipython>=4.0.0->ipywidgets>=7->nglview) (2.11.2)\n",
      "Requirement already satisfied: prompt-toolkit!=3.0.0,!=3.0.1,<3.1.0,>=2.0.0 in c:\\users\\toshiba\\anaconda3\\lib\\site-packages (from ipython>=4.0.0->ipywidgets>=7->nglview) (3.0.20)\n",
      "Requirement already satisfied: stack-data in c:\\users\\toshiba\\anaconda3\\lib\\site-packages (from ipython>=4.0.0->ipywidgets>=7->nglview) (0.2.0)\n",
      "Requirement already satisfied: parso<0.9.0,>=0.8.0 in c:\\users\\toshiba\\anaconda3\\lib\\site-packages (from jedi>=0.16->ipython>=4.0.0->ipywidgets>=7->nglview) (0.8.3)\n",
      "Requirement already satisfied: python-dateutil>=2.1 in c:\\users\\toshiba\\anaconda3\\lib\\site-packages (from jupyter-client<8.0->ipykernel>=4.5.1->ipywidgets>=7->nglview) (2.8.2)\n",
      "Requirement already satisfied: pyzmq>=13 in c:\\users\\toshiba\\anaconda3\\lib\\site-packages (from jupyter-client<8.0->ipykernel>=4.5.1->ipywidgets>=7->nglview) (22.3.0)\n",
      "Requirement already satisfied: jupyter-core>=4.6.0 in c:\\users\\toshiba\\anaconda3\\lib\\site-packages (from jupyter-client<8.0->ipykernel>=4.5.1->ipywidgets>=7->nglview) (4.9.2)\n",
      "Requirement already satisfied: pywin32>=1.0 in c:\\users\\toshiba\\anaconda3\\lib\\site-packages (from jupyter-core>=4.6.0->jupyter-client<8.0->ipykernel>=4.5.1->ipywidgets>=7->nglview) (302)\n",
      "Requirement already satisfied: jsonschema>=2.6 in c:\\users\\toshiba\\anaconda3\\lib\\site-packages (from nbformat>=4.2.0->ipywidgets>=7->nglview) (4.4.0)\n",
      "Requirement already satisfied: fastjsonschema in c:\\users\\toshiba\\anaconda3\\lib\\site-packages (from nbformat>=4.2.0->ipywidgets>=7->nglview) (2.15.1)\n",
      "Requirement already satisfied: pyrsistent!=0.17.0,!=0.17.1,!=0.17.2,>=0.14.0 in c:\\users\\toshiba\\anaconda3\\lib\\site-packages (from jsonschema>=2.6->nbformat>=4.2.0->ipywidgets>=7->nglview) (0.18.0)\n",
      "Requirement already satisfied: attrs>=17.4.0 in c:\\users\\toshiba\\anaconda3\\lib\\site-packages (from jsonschema>=2.6->nbformat>=4.2.0->ipywidgets>=7->nglview) (21.4.0)\n",
      "Requirement already satisfied: wcwidth in c:\\users\\toshiba\\anaconda3\\lib\\site-packages (from prompt-toolkit!=3.0.0,!=3.0.1,<3.1.0,>=2.0.0->ipython>=4.0.0->ipywidgets>=7->nglview) (0.2.5)\n",
      "Requirement already satisfied: six>=1.5 in c:\\users\\toshiba\\anaconda3\\lib\\site-packages (from python-dateutil>=2.1->jupyter-client<8.0->ipykernel>=4.5.1->ipywidgets>=7->nglview) (1.16.0)\n",
      "Requirement already satisfied: notebook>=4.4.1 in c:\\users\\toshiba\\anaconda3\\lib\\site-packages (from widgetsnbextension~=3.5.0->ipywidgets>=7->nglview) (6.4.8)\n",
      "Requirement already satisfied: Send2Trash>=1.8.0 in c:\\users\\toshiba\\anaconda3\\lib\\site-packages (from notebook>=4.4.1->widgetsnbextension~=3.5.0->ipywidgets>=7->nglview) (1.8.0)\n",
      "Requirement already satisfied: prometheus-client in c:\\users\\toshiba\\anaconda3\\lib\\site-packages (from notebook>=4.4.1->widgetsnbextension~=3.5.0->ipywidgets>=7->nglview) (0.13.1)\n",
      "Requirement already satisfied: terminado>=0.8.3 in c:\\users\\toshiba\\anaconda3\\lib\\site-packages (from notebook>=4.4.1->widgetsnbextension~=3.5.0->ipywidgets>=7->nglview) (0.13.1)\n",
      "Requirement already satisfied: argon2-cffi in c:\\users\\toshiba\\anaconda3\\lib\\site-packages (from notebook>=4.4.1->widgetsnbextension~=3.5.0->ipywidgets>=7->nglview) (21.3.0)\n",
      "Requirement already satisfied: jinja2 in c:\\users\\toshiba\\anaconda3\\lib\\site-packages (from notebook>=4.4.1->widgetsnbextension~=3.5.0->ipywidgets>=7->nglview) (2.11.3)\n",
      "Requirement already satisfied: nbconvert in c:\\users\\toshiba\\anaconda3\\lib\\site-packages (from notebook>=4.4.1->widgetsnbextension~=3.5.0->ipywidgets>=7->nglview) (6.4.4)\n",
      "Requirement already satisfied: pywinpty>=1.1.0 in c:\\users\\toshiba\\anaconda3\\lib\\site-packages (from terminado>=0.8.3->notebook>=4.4.1->widgetsnbextension~=3.5.0->ipywidgets>=7->nglview) (2.0.2)\n",
      "Requirement already satisfied: argon2-cffi-bindings in c:\\users\\toshiba\\anaconda3\\lib\\site-packages (from argon2-cffi->notebook>=4.4.1->widgetsnbextension~=3.5.0->ipywidgets>=7->nglview) (21.2.0)\n",
      "Requirement already satisfied: cffi>=1.0.1 in c:\\users\\toshiba\\anaconda3\\lib\\site-packages (from argon2-cffi-bindings->argon2-cffi->notebook>=4.4.1->widgetsnbextension~=3.5.0->ipywidgets>=7->nglview) (1.15.0)\n",
      "Requirement already satisfied: pycparser in c:\\users\\toshiba\\anaconda3\\lib\\site-packages (from cffi>=1.0.1->argon2-cffi-bindings->argon2-cffi->notebook>=4.4.1->widgetsnbextension~=3.5.0->ipywidgets>=7->nglview) (2.21)\n",
      "Requirement already satisfied: MarkupSafe>=0.23 in c:\\users\\toshiba\\anaconda3\\lib\\site-packages (from jinja2->notebook>=4.4.1->widgetsnbextension~=3.5.0->ipywidgets>=7->nglview) (2.0.1)\n",
      "Requirement already satisfied: testpath in c:\\users\\toshiba\\anaconda3\\lib\\site-packages (from nbconvert->notebook>=4.4.1->widgetsnbextension~=3.5.0->ipywidgets>=7->nglview) (0.5.0)\n",
      "Requirement already satisfied: defusedxml in c:\\users\\toshiba\\anaconda3\\lib\\site-packages (from nbconvert->notebook>=4.4.1->widgetsnbextension~=3.5.0->ipywidgets>=7->nglview) (0.7.1)\n",
      "Requirement already satisfied: pandocfilters>=1.4.1 in c:\\users\\toshiba\\anaconda3\\lib\\site-packages (from nbconvert->notebook>=4.4.1->widgetsnbextension~=3.5.0->ipywidgets>=7->nglview) (1.5.0)\n",
      "Requirement already satisfied: nbclient<0.6.0,>=0.5.0 in c:\\users\\toshiba\\anaconda3\\lib\\site-packages (from nbconvert->notebook>=4.4.1->widgetsnbextension~=3.5.0->ipywidgets>=7->nglview) (0.5.13)\n",
      "Requirement already satisfied: beautifulsoup4 in c:\\users\\toshiba\\anaconda3\\lib\\site-packages (from nbconvert->notebook>=4.4.1->widgetsnbextension~=3.5.0->ipywidgets>=7->nglview) (4.11.1)\n",
      "Requirement already satisfied: jupyterlab-pygments in c:\\users\\toshiba\\anaconda3\\lib\\site-packages (from nbconvert->notebook>=4.4.1->widgetsnbextension~=3.5.0->ipywidgets>=7->nglview) (0.1.2)\n",
      "Requirement already satisfied: mistune<2,>=0.8.1 in c:\\users\\toshiba\\anaconda3\\lib\\site-packages (from nbconvert->notebook>=4.4.1->widgetsnbextension~=3.5.0->ipywidgets>=7->nglview) (0.8.4)\n",
      "Requirement already satisfied: bleach in c:\\users\\toshiba\\anaconda3\\lib\\site-packages (from nbconvert->notebook>=4.4.1->widgetsnbextension~=3.5.0->ipywidgets>=7->nglview) (4.1.0)\n",
      "Requirement already satisfied: entrypoints>=0.2.2 in c:\\users\\toshiba\\anaconda3\\lib\\site-packages (from nbconvert->notebook>=4.4.1->widgetsnbextension~=3.5.0->ipywidgets>=7->nglview) (0.4)\n",
      "Requirement already satisfied: soupsieve>1.2 in c:\\users\\toshiba\\anaconda3\\lib\\site-packages (from beautifulsoup4->nbconvert->notebook>=4.4.1->widgetsnbextension~=3.5.0->ipywidgets>=7->nglview) (2.3.1)\n",
      "Requirement already satisfied: packaging in c:\\users\\toshiba\\anaconda3\\lib\\site-packages (from bleach->nbconvert->notebook>=4.4.1->widgetsnbextension~=3.5.0->ipywidgets>=7->nglview) (21.3)\n",
      "Requirement already satisfied: webencodings in c:\\users\\toshiba\\anaconda3\\lib\\site-packages (from bleach->nbconvert->notebook>=4.4.1->widgetsnbextension~=3.5.0->ipywidgets>=7->nglview) (0.5.1)\n",
      "Requirement already satisfied: pyparsing!=3.0.5,>=2.0.2 in c:\\users\\toshiba\\anaconda3\\lib\\site-packages (from packaging->bleach->nbconvert->notebook>=4.4.1->widgetsnbextension~=3.5.0->ipywidgets>=7->nglview) (3.0.4)\n",
      "Requirement already satisfied: executing in c:\\users\\toshiba\\anaconda3\\lib\\site-packages (from stack-data->ipython>=4.0.0->ipywidgets>=7->nglview) (0.8.3)\n",
      "Requirement already satisfied: pure-eval in c:\\users\\toshiba\\anaconda3\\lib\\site-packages (from stack-data->ipython>=4.0.0->ipywidgets>=7->nglview) (0.2.2)\n",
      "Requirement already satisfied: asttokens in c:\\users\\toshiba\\anaconda3\\lib\\site-packages (from stack-data->ipython>=4.0.0->ipywidgets>=7->nglview) (2.0.5)\n",
      "Building wheels for collected packages: nglview\n",
      "  Building wheel for nglview (PEP 517): started\n",
      "  Building wheel for nglview (PEP 517): finished with status 'done'\n",
      "  Created wheel for nglview: filename=nglview-3.0.3-py3-none-any.whl size=8057550 sha256=54bf19ea7f2c41a5b964af2e12e15e9b0ac16ab6ecc65539b74142bffd0bbce8\n",
      "  Stored in directory: c:\\users\\toshiba\\appdata\\local\\pip\\cache\\wheels\\ed\\12\\ba\\4e227d89934c5d7bdf91387286e45dc868613ab32fa6ce36cf\n",
      "Successfully built nglview\n",
      "Installing collected packages: nglview\n",
      "Successfully installed nglview-3.0.3\n"
     ]
    }
   ],
   "source": [
    "!pip install biopython\n",
    "!pip install reportlab\n",
    "!pip install nglview"
   ]
  },
  {
   "cell_type": "code",
   "execution_count": 30,
   "metadata": {},
   "outputs": [],
   "source": [
    "from Bio import Entrez \n",
    "import re\n",
    "import csv\n",
    "\n",
    "def download_pubmed(keyword): \n",
    "    \"\"\"Docstring download_pubmed.\n",
    "    \"\"\"\n",
    "    # Always tell NCBI who you are (edit the e-mail below!)\n",
    "    Entrez.email = \"gualapuro.moises@gmail.com\"\n",
    "    handle = Entrez.esearch(db=\"pubmed\", \n",
    "                            term=keyword,\n",
    "                            usehistory=\"y\")\n",
    "    record = Entrez.read(handle)\n",
    "    # generate a Python list with all Pubmed IDs of articles about Dengue Network\n",
    "    id_list = record[\"IdList\"]\n",
    "    record[\"Count\"]\n",
    "    webenv = record[\"WebEnv\"]\n",
    "    query_key = record[\"QueryKey\"]\n",
    "    handle = Entrez.efetch(db=\"pubmed\",\n",
    "                           rettype=\"medline\", \n",
    "                           retmode=\"text\", \n",
    "                           retstart=0,\n",
    "    retmax=543, webenv=webenv, query_key=query_key)\n",
    "    out_handle = open(\"pubmed_results.txt\", \"w\")\n",
    "    data = handle.read()\n",
    "    handle.close()\n",
    "    out_handle.write(data)\n",
    "    out_handle.close()\n",
    "    return\n",
    "\n",
    "def map_science(tipo):\n",
    "    \"\"\" Docstring map_science \"\"\"\n",
    "    \"\"\" Esta funcion me permite crear un MapOfScience \"\"\"\n",
    "#if tipo == \"AD\":\n",
    "    with open(tipo) as f:\n",
    "        my_text = f.read(tipo)\n",
    "    my_text = re.sub(r'\\n\\s{6}', ' ', my_text)  \n",
    "    zipcodes = re.findall(r'[A-Z]{2}\\s(\\d{5}), USA', my_text)\n",
    "    unique_zipcodes = list(set(zipcodes))\n",
    "    unique_zipcodes.sort()\n",
    "    unique_zipcodes[:10]\n",
    "    zip_coordinates = {}\n",
    "    with open('CSB-master/regex/data/MapOfScience/zipcodes_coordinates.txt') as f:\n",
    "        csvr = csv.DictReader(f)\n",
    "        for row in csvr:\n",
    "         zip_coordinates[row['ZIP']] = [float(row['LAT']), \n",
    "                                        float(row['LNG'])]\n",
    "    zip_code = []\n",
    "    zip_long = []\n",
    "    zip_lat = []\n",
    "    zip_count = []\n",
    "    for z in unique_zipcodes:\n",
    "# if we can find the coordinates\n",
    "        if z in zip_coordinates.keys():\n",
    "            zip_code.append(z)\n",
    "            zip_lat.append(zip_coordinates[z][0])\n",
    "            zip_long.append(zip_coordinates[z][1])\n",
    "            zip_count.append(zipcodes.count(z))\n",
    "    import matplotlib.pyplot as plt\n",
    "    #%matplotlib inline\n",
    "    plt.scatter(zip_long, zip_lat, s = zip_count, c= zip_count)\n",
    "    plt.colorbar()\n",
    "# only continental us without Alaska\n",
    "    plt.xlim(-125,-65)\n",
    "    plt.ylim(23, 50)\n",
    "# add a few cities for reference (optional)\n",
    "    ard = dict(arrowstyle=\"->\")\n",
    "    plt.annotate('Filadelfia', xy = (-122.1381, 37.4292), \n",
    "                   xytext = (-112.1381, 37.4292), arrowprops= ard)\n",
    "    plt.annotate('San Francisco', xy = (-71.1106, 42.3736), \n",
    "                   xytext = (-73.1106, 48.3736), arrowprops= ard)\n",
    "    plt.annotate('Atlanta', xy = (-87.6847, 41.8369), \n",
    "                   xytext = (-87.6847, 46.8369), arrowprops= ard)\n",
    "    plt.annotate('Detroit', xy = (-122.33, 47.61), \n",
    "                   xytext = (-116.33, 47.61), arrowprops= ard)\n",
    "    plt.annotate('Dallas', xy = (-80.21, 25.7753), \n",
    "                   xytext = (-80.21, 30.7753), arrowprops= ard)\n",
    "    params = plt.gcf()\n",
    "    plSize = params.get_size_inches()\n",
    "    params.set_size_inches( (plSize[0] * 3, plSize[1] * 3) )\n",
    "    fig.savefig(\"img/mapas.jpg\")\n",
    "    return plt.show()"
   ]
  },
  {
   "cell_type": "code",
   "execution_count": 31,
   "metadata": {},
   "outputs": [],
   "source": [
    "import miningscience"
   ]
  },
  {
   "cell_type": "code",
   "execution_count": 32,
   "metadata": {},
   "outputs": [],
   "source": [
    "?miningscience.download_pubmed"
   ]
  },
  {
   "cell_type": "code",
   "execution_count": 33,
   "metadata": {},
   "outputs": [],
   "source": [
    "?miningscience.map_science"
   ]
  },
  {
   "cell_type": "markdown",
   "metadata": {},
   "source": [
    "\n",
    "## Ejercicio 2 [2 puntos]\n",
    "\n",
    "\n",
    "Utilice dos veces la función ```download_pubmed``` para: \n",
    "\n",
    "- Descargar la data, utilizando los keyword de su preferencia. \n",
    "- Guardar el archivo descargado en la carpeta ```data```.\n",
    "\n",
    "Para cada corrida, imprima lo siguiente: \n",
    "\n",
    "```python\n",
    "'El número artículos para KEYWORD es: XX' # Que se cargue con inserción de texto o valor que correspondea KEYWORD y XX\n",
    "```"
   ]
  },
  {
   "cell_type": "code",
   "execution_count": 35,
   "metadata": {},
   "outputs": [],
   "source": [
    "miningscience.download_pubmed(\"Genes\")"
   ]
  },
  {
   "cell_type": "code",
   "execution_count": 36,
   "metadata": {},
   "outputs": [
    {
     "ename": "SyntaxError",
     "evalue": "unexpected EOF while parsing (3346734226.py, line 4)",
     "output_type": "error",
     "traceback": [
      "\u001b[1;36m  Input \u001b[1;32mIn [36]\u001b[1;36m\u001b[0m\n\u001b[1;33m    print((text1.count('PMID'))\u001b[0m\n\u001b[1;37m                               ^\u001b[0m\n\u001b[1;31mSyntaxError\u001b[0m\u001b[1;31m:\u001b[0m unexpected EOF while parsing\n"
     ]
    }
   ],
   "source": [
    "dt1 = miningscience.download_pubmed(\"Genes\")\n",
    "doc1 = open('pubmed_results.txt')\n",
    "text1 = doc1.read()\n",
    "print((text1.count('PMID'))"
   ]
  },
  {
   "cell_type": "markdown",
   "metadata": {},
   "source": [
    "## Ejercicio 3 [1.5 puntos]\n",
    "\n",
    "Utilice dos veces la función ```map_science``` para: \n",
    "\n",
    "- Visualizar un mapa para cada data descargada en el ejercicio 2.\n",
    "- Guardar los mapas en la carpeta ```img```"
   ]
  },
  {
   "cell_type": "code",
   "execution_count": 34,
   "metadata": {},
   "outputs": [
    {
     "ename": "TypeError",
     "evalue": "open() missing required argument 'file' (pos 1)",
     "output_type": "error",
     "traceback": [
      "\u001b[1;31m---------------------------------------------------------------------------\u001b[0m",
      "\u001b[1;31mTypeError\u001b[0m                                 Traceback (most recent call last)",
      "Input \u001b[1;32mIn [34]\u001b[0m, in \u001b[0;36m<cell line: 2>\u001b[1;34m()\u001b[0m\n\u001b[0;32m      1\u001b[0m \u001b[38;5;66;03m# Escriba aquí su código para el ejercicio 3\u001b[39;00m\n\u001b[1;32m----> 2\u001b[0m \u001b[43mminingscience\u001b[49m\u001b[38;5;241;43m.\u001b[39;49m\u001b[43mmap_science\u001b[49m\u001b[43m(\u001b[49m\u001b[38;5;124;43m\"\u001b[39;49m\u001b[38;5;124;43mdata/pubmed_results.txt\u001b[39;49m\u001b[38;5;124;43m\"\u001b[39;49m\u001b[43m)\u001b[49m\n",
      "File \u001b[1;32m~\\Downloads\\miningscience.py:35\u001b[0m, in \u001b[0;36mmap_science\u001b[1;34m(tipo)\u001b[0m\n\u001b[0;32m     33\u001b[0m     \u001b[38;5;124;03m\"\"\" Esta funcion me permite crear un MapOfScience \"\"\"\u001b[39;00m\n\u001b[0;32m     34\u001b[0m \u001b[38;5;66;03m#if tipo == \"AD\":\u001b[39;00m\n\u001b[1;32m---> 35\u001b[0m     \u001b[38;5;28;01mwith\u001b[39;00m \u001b[38;5;28;43mopen\u001b[39;49m\u001b[43m(\u001b[49m\u001b[43m)\u001b[49m \u001b[38;5;28;01mas\u001b[39;00m f:\n\u001b[0;32m     36\u001b[0m         my_text \u001b[38;5;241m=\u001b[39m f\u001b[38;5;241m.\u001b[39mread(tipo)\n\u001b[0;32m     37\u001b[0m     my_text \u001b[38;5;241m=\u001b[39m re\u001b[38;5;241m.\u001b[39msub(\u001b[38;5;124mr\u001b[39m\u001b[38;5;124m'\u001b[39m\u001b[38;5;124m\\\u001b[39m\u001b[38;5;124mn\u001b[39m\u001b[38;5;124m\\\u001b[39m\u001b[38;5;124ms\u001b[39m\u001b[38;5;132;01m{6}\u001b[39;00m\u001b[38;5;124m'\u001b[39m, \u001b[38;5;124m'\u001b[39m\u001b[38;5;124m \u001b[39m\u001b[38;5;124m'\u001b[39m, my_text)  \n",
      "\u001b[1;31mTypeError\u001b[0m: open() missing required argument 'file' (pos 1)"
     ]
    }
   ],
   "source": [
    "# Escriba aquí su código para el ejercicio 3\n",
    "miningscience.map_science(\"data/pubmed_results.txt\")"
   ]
  },
  {
   "cell_type": "markdown",
   "metadata": {},
   "source": [
    "## Ejercicio 4 [1 punto]\n",
    "\n",
    "**Interprete** los resultados de las figuras del **ejercicio 3**"
   ]
  },
  {
   "cell_type": "markdown",
   "metadata": {},
   "source": [
    "*Escriba la respuesta del ejercicio 5*\n"
   ]
  },
  {
   "cell_type": "markdown",
   "metadata": {},
   "source": [
    "## Ejercicio 5 [2 puntos]\n",
    "\n",
    "Para algún **gen de interés** (podría usar [Lista de genes por tipología](https://www.genome.jp/kegg/pathway.html#metabolism)), realice lo siguiente: \n",
    "\n",
    "1. Una búsqueda en la página del [NCBI nucleotide](https://www.ncbi.nlm.nih.gov/nucleotide/).\n",
    "\n",
    "2. Descargue el ```Accession List``` de su búsqueda y guarde en la carpeta ```data```.\n",
    "\n",
    "3. Cargue el ```Accession List``` en este notebook y haga una descarga de las secuencias de los **quince primeros** IDs de la accesión. \n",
    "\n",
    "4. Arme un árbol filogenético para los resultados del paso 3.\n",
    "\n",
    "5. Guarde su arbol filogénetico en la carpeta ```img```\n",
    "\n",
    "5. Interprete el árbol del paso 4. "
   ]
  },
  {
   "cell_type": "code",
   "execution_count": 27,
   "metadata": {},
   "outputs": [],
   "source": [
    "# Escriba aquí su código para el ejercicio 6\n",
    "from Bio import SeqIO\n",
    "from Bio import AlignIO\n",
    "from Bio import Phylo"
   ]
  },
  {
   "cell_type": "code",
   "execution_count": 28,
   "metadata": {},
   "outputs": [],
   "source": [
    "from Bio.Align.Applications import ClustalwCommandline\n",
    "import os"
   ]
  },
  {
   "cell_type": "code",
   "execution_count": 29,
   "metadata": {
    "scrolled": true
   },
   "outputs": [
    {
     "ename": "AssertionError",
     "evalue": "Clustal_W executable is missing or not found",
     "output_type": "error",
     "traceback": [
      "\u001b[1;31m---------------------------------------------------------------------------\u001b[0m",
      "\u001b[1;31mAssertionError\u001b[0m                            Traceback (most recent call last)",
      "Input \u001b[1;32mIn [29]\u001b[0m, in \u001b[0;36m<cell line: 4>\u001b[1;34m()\u001b[0m\n\u001b[0;32m      2\u001b[0m clustalw_exe \u001b[38;5;241m=\u001b[39m \u001b[38;5;124mr\u001b[39m\u001b[38;5;124m\"\u001b[39m\u001b[38;5;124mC:\u001b[39m\u001b[38;5;124m\\\u001b[39m\u001b[38;5;124mProgram Files (x86)\u001b[39m\u001b[38;5;124m\\\u001b[39m\u001b[38;5;124mClustalW2\u001b[39m\u001b[38;5;124m\\\u001b[39m\u001b[38;5;124mclustalw2.exe\u001b[39m\u001b[38;5;124m\"\u001b[39m\n\u001b[0;32m      3\u001b[0m clustalw_cline \u001b[38;5;241m=\u001b[39m ClustalwCommandline(clustalw_exe, infile \u001b[38;5;241m=\u001b[39m \u001b[38;5;124m\"\u001b[39m\u001b[38;5;124mdata/rag2s.fasta\u001b[39m\u001b[38;5;124m\"\u001b[39m)\n\u001b[1;32m----> 4\u001b[0m \u001b[38;5;28;01massert\u001b[39;00m os\u001b[38;5;241m.\u001b[39mpath\u001b[38;5;241m.\u001b[39misfile(clustalw_exe), \u001b[38;5;124m\"\u001b[39m\u001b[38;5;124mClustal_W executable is missing or not found\u001b[39m\u001b[38;5;124m\"\u001b[39m\n\u001b[0;32m      5\u001b[0m stdout, stderr \u001b[38;5;241m=\u001b[39m clustalw_cline()\n\u001b[0;32m      6\u001b[0m \u001b[38;5;28mprint\u001b[39m(clustalw_cline)\n",
      "\u001b[1;31mAssertionError\u001b[0m: Clustal_W executable is missing or not found"
     ]
    }
   ],
   "source": [
    "# cargar data multiple y crear alineamientos\n",
    "clustalw_exe = r\"C:\\Program Files (x86)\\ClustalW2\\clustalw2.exe\"\n",
    "clustalw_cline = ClustalwCommandline(clustalw_exe, infile = \"data/rag2s.fasta\")\n",
    "assert os.path.isfile(clustalw_exe), \"Clustal_W executable is missing or not found\"\n",
    "stdout, stderr = clustalw_cline()\n",
    "print(clustalw_cline)"
   ]
  },
  {
   "cell_type": "code",
   "execution_count": null,
   "metadata": {},
   "outputs": [],
   "source": []
  },
  {
   "cell_type": "markdown",
   "metadata": {},
   "source": [
    "**Escriba aquí la interpretación del árbol**"
   ]
  },
  {
   "cell_type": "markdown",
   "metadata": {},
   "source": [
    "## Ejercicio 6 [1 punto]\n",
    "\n",
    "\n",
    "1. Cree en GitHub un repositorio de nombre ```GBI6_ExamenPython```. \n",
    "2. Cree un archivo ```Readme.md``` que debe tener lo siguiente: \n",
    "- Datos personales\n",
    "- Características del computador\n",
    "- Versión de Python/Anaconda y de cada uno de los módulos/paquetes y utilizados\n",
    "- Explicación de la data utilizada\n",
    "- Un diagrama de procesos del módulo ```miningscience```\n",
    "3. Asegurarse que su repositorio tiene las carpetas ```data``` e ```img``` con los archivos que ha ido guardando en las preguntas anteriores.  \n",
    "4. Realice al menos 1 control de la versión (commits) por cada ejercicio (del 1 al 5), con un mensaje que inicie como: \n",
    "\n",
    "```sh \n",
    "Carlitos Alimaña ha realizado el ejercicio 1  \n",
    "```\n",
    "```sh \n",
    "Carlitos Alimaña ha realizado el ejercicio 2\n",
    "```\n",
    "```sh \n",
    "...\n",
    "```\n"
   ]
  },
  {
   "cell_type": "code",
   "execution_count": null,
   "metadata": {},
   "outputs": [],
   "source": []
  }
 ],
 "metadata": {
  "kernelspec": {
   "display_name": "Python 3 (ipykernel)",
   "language": "python",
   "name": "python3"
  },
  "language_info": {
   "codemirror_mode": {
    "name": "ipython",
    "version": 3
   },
   "file_extension": ".py",
   "mimetype": "text/x-python",
   "name": "python",
   "nbconvert_exporter": "python",
   "pygments_lexer": "ipython3",
   "version": "3.9.12"
  },
  "latex_envs": {
   "LaTeX_envs_menu_present": true,
   "autoclose": false,
   "autocomplete": true,
   "bibliofile": "biblio.bib",
   "cite_by": "apalike",
   "current_citInitial": 1,
   "eqLabelWithNumbers": true,
   "eqNumInitial": 1,
   "hotkeys": {
    "equation": "Ctrl-E",
    "itemize": "Ctrl-I"
   },
   "labels_anchors": false,
   "latex_user_defs": false,
   "report_style_numbering": false,
   "user_envs_cfg": false
  },
  "toc": {
   "base_numbering": 1,
   "nav_menu": {},
   "number_sections": true,
   "sideBar": false,
   "skip_h1_title": false,
   "title_cell": "Table of Contents",
   "title_sidebar": "Contents",
   "toc_cell": false,
   "toc_position": {
    "height": "1152.67px",
    "left": "41px",
    "top": "110px",
    "width": "253.458px"
   },
   "toc_section_display": true,
   "toc_window_display": false
  },
  "varInspector": {
   "cols": {
    "lenName": 16,
    "lenType": 16,
    "lenVar": 40
   },
   "kernels_config": {
    "python": {
     "delete_cmd_postfix": "",
     "delete_cmd_prefix": "del ",
     "library": "var_list.py",
     "varRefreshCmd": "print(var_dic_list())"
    },
    "r": {
     "delete_cmd_postfix": ") ",
     "delete_cmd_prefix": "rm(",
     "library": "var_list.r",
     "varRefreshCmd": "cat(var_dic_list()) "
    }
   },
   "types_to_exclude": [
    "module",
    "function",
    "builtin_function_or_method",
    "instance",
    "_Feature"
   ],
   "window_display": false
  }
 },
 "nbformat": 4,
 "nbformat_minor": 4
}
